{
 "cells": [
  {
   "cell_type": "code",
   "execution_count": null,
   "metadata": {
    "vscode": {
     "languageId": "plaintext"
    }
   },
   "outputs": [],
   "source": [
    "from PIL import Image\n",
    "from utils.grad_cam_utils import generate_grad_cam\n",
    "from torchvision.models import densenet121\n",
    "\n",
    "# Load trained model\n",
    "model = densenet121(pretrained=False)\n",
    "model.classifier = nn.Linear(model.classifier.in_features, 3)\n",
    "model.load_state_dict(torch.load('models/chest_xray_densenet.pt', map_location=device))\n",
    "model = model.to(device)\n"
   ]
  },
  {
   "cell_type": "code",
   "execution_count": null,
   "metadata": {
    "vscode": {
     "languageId": "plaintext"
    }
   },
   "outputs": [],
   "source": [
    "# Select a layer for Grad-CAM\n",
    "target_layer = model.features[-1]  # usually last conv layer\n",
    "\n",
    "# Load test image\n",
    "img_path = '../data/split/test/pneumonia/xyz.jpg'\n",
    "image = Image.open(img_path).convert('RGB')\n",
    "\n",
    "# Generate Grad-CAM\n",
    "heatmap = generate_grad_cam(model, image, target_layer, device)\n",
    "\n",
    "# Show it\n",
    "plt.imshow(heatmap)\n",
    "plt.title(\"Grad-CAM\")\n",
    "plt.axis(\"off\")\n",
    "plt.show()"
   ]
  },
  {
   "cell_type": "code",
   "execution_count": null,
   "metadata": {
    "vscode": {
     "languageId": "plaintext"
    }
   },
   "outputs": [],
   "source": []
  }
 ],
 "metadata": {
  "language_info": {
   "name": "python"
  }
 },
 "nbformat": 4,
 "nbformat_minor": 2
}
