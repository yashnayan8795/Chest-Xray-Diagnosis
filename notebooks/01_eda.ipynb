{
 "cells": [
  {
   "cell_type": "code",
   "execution_count": 1,
   "id": "911708d5",
   "metadata": {},
   "outputs": [],
   "source": [
    "import os\n",
    "import numpy as np\n",
    "import matplotlib.pyplot as plt\n",
    "import cv2"
   ]
  },
  {
   "cell_type": "code",
   "execution_count": 2,
   "id": "59f897aa",
   "metadata": {},
   "outputs": [],
   "source": [
    "# Define paths\n",
    "split_data_dir = 'data/split'\n",
    "train_dir = os.path.join(split_data_dir, 'train')\n",
    "val_dir = os.path.join(split_data_dir, 'val')\n",
    "test_dir = os.path.join(split_data_dir, 'test')"
   ]
  },
  {
   "cell_type": "code",
   "execution_count": 3,
   "id": "ac6b1b01",
   "metadata": {},
   "outputs": [
    {
     "ename": "FileNotFoundError",
     "evalue": "[WinError 3] The system cannot find the path specified: 'data/split\\\\train'",
     "output_type": "error",
     "traceback": [
      "\u001b[31m---------------------------------------------------------------------------\u001b[39m",
      "\u001b[31mFileNotFoundError\u001b[39m                         Traceback (most recent call last)",
      "\u001b[36mCell\u001b[39m\u001b[36m \u001b[39m\u001b[32mIn[3]\u001b[39m\u001b[32m, line 10\u001b[39m\n\u001b[32m      7\u001b[39m             counts[\u001b[38;5;28mcls\u001b[39m] = \u001b[38;5;28mlen\u001b[39m(os.listdir(cls_dir))\n\u001b[32m      8\u001b[39m     \u001b[38;5;28;01mreturn\u001b[39;00m counts\n\u001b[32m---> \u001b[39m\u001b[32m10\u001b[39m train_counts = \u001b[43mcount_images\u001b[49m\u001b[43m(\u001b[49m\u001b[43mtrain_dir\u001b[49m\u001b[43m)\u001b[49m\n\u001b[32m     11\u001b[39m val_counts = count_images(val_dir)\n\u001b[32m     12\u001b[39m test_counts = count_images(test_dir)\n",
      "\u001b[36mCell\u001b[39m\u001b[36m \u001b[39m\u001b[32mIn[3]\u001b[39m\u001b[32m, line 4\u001b[39m, in \u001b[36mcount_images\u001b[39m\u001b[34m(directory)\u001b[39m\n\u001b[32m      2\u001b[39m \u001b[38;5;28;01mdef\u001b[39;00m\u001b[38;5;250m \u001b[39m\u001b[34mcount_images\u001b[39m(directory):\n\u001b[32m      3\u001b[39m     counts = {}\n\u001b[32m----> \u001b[39m\u001b[32m4\u001b[39m     \u001b[38;5;28;01mfor\u001b[39;00m \u001b[38;5;28mcls\u001b[39m \u001b[38;5;129;01min\u001b[39;00m \u001b[43mos\u001b[49m\u001b[43m.\u001b[49m\u001b[43mlistdir\u001b[49m\u001b[43m(\u001b[49m\u001b[43mdirectory\u001b[49m\u001b[43m)\u001b[49m:\n\u001b[32m      5\u001b[39m         cls_dir = os.path.join(directory, \u001b[38;5;28mcls\u001b[39m)\n\u001b[32m      6\u001b[39m         \u001b[38;5;28;01mif\u001b[39;00m os.path.isdir(cls_dir):\n",
      "\u001b[31mFileNotFoundError\u001b[39m: [WinError 3] The system cannot find the path specified: 'data/split\\\\train'"
     ]
    }
   ],
   "source": [
    "# Count images in each set\n",
    "def count_images(directory):\n",
    "    counts = {}\n",
    "    for cls in os.listdir(directory):\n",
    "        cls_dir = os.path.join(directory, cls)\n",
    "        if os.path.isdir(cls_dir):\n",
    "            counts[cls] = len(os.listdir(cls_dir))\n",
    "    return counts\n",
    "\n",
    "train_counts = count_images(train_dir)\n",
    "val_counts = count_images(val_dir)\n",
    "test_counts = count_images(test_dir)"
   ]
  },
  {
   "cell_type": "code",
   "execution_count": null,
   "id": "5be42aea",
   "metadata": {},
   "outputs": [],
   "source": [
    "# Create a DataFrame for plotting\n",
    "data = {\n",
    "    'Set': ['Train']*len(train_counts) + ['Validation']*len(val_counts) + ['Test']*len(test_counts),\n",
    "    'Class': list(train_counts.keys()) + list(val_counts.keys()) + list(test_counts.keys()),\n",
    "    'Count': list(train_counts.values()) + list(val_counts.values()) + list(test_counts.values())\n",
    "}\n",
    "df = pd.DataFrame(data)"
   ]
  },
  {
   "cell_type": "code",
   "execution_count": null,
   "id": "7f92638a",
   "metadata": {},
   "outputs": [],
   "source": [
    "# Plot class distribution\n",
    "plt.figure(figsize=(10, 6))\n",
    "sns.barplot(x='Set', y='Count', hue='Class', data=df)\n",
    "plt.title('Class Distribution in Train, Validation, and Test Sets')\n",
    "plt.show()"
   ]
  },
  {
   "cell_type": "code",
   "execution_count": null,
   "id": "26bb7294",
   "metadata": {},
   "outputs": [],
   "source": [
    "def display_samples(directory, num_samples=3):\n",
    "    plt.figure(figsize=(12, 8))\n",
    "    for i, cls in enumerate(os.listdir(directory)):\n",
    "        cls_dir = os.path.join(directory, cls)\n",
    "        if os.path.isdir(cls_dir):\n",
    "            img_names = os.listdir(cls_dir)[:num_samples]\n",
    "            for j, img_name in enumerate(img_names):\n",
    "                img_path = os.path.join(cls_dir, img_name)\n",
    "                img = Image.open(img_path)\n",
    "                plt.subplot(len(os.listdir(directory)), num_samples, i * num_samples + j + 1)\n",
    "                plt.imshow(img, cmap='gray')\n",
    "                plt.title(f'{cls}')\n",
    "                plt.axis('off')\n",
    "    plt.tight_layout()\n",
    "    plt.show()"
   ]
  },
  {
   "cell_type": "code",
   "execution_count": null,
   "id": "ebafda51",
   "metadata": {},
   "outputs": [],
   "source": [
    "print(\"Displaying sample images from the training set:\")\n",
    "display_samples(train_dir)"
   ]
  }
 ],
 "metadata": {
  "kernelspec": {
   "display_name": "venv",
   "language": "python",
   "name": "python3"
  },
  "language_info": {
   "codemirror_mode": {
    "name": "ipython",
    "version": 3
   },
   "file_extension": ".py",
   "mimetype": "text/x-python",
   "name": "python",
   "nbconvert_exporter": "python",
   "pygments_lexer": "ipython3",
   "version": "3.13.1"
  }
 },
 "nbformat": 4,
 "nbformat_minor": 5
}
